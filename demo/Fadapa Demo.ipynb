{
 "metadata": {
  "name": "",
  "signature": "sha256:ee6a40ac2017ab5910ce27a2492023a6804b015c04af9310ef8dfd40e7d21a10"
 },
 "nbformat": 3,
 "nbformat_minor": 0,
 "worksheets": []
}