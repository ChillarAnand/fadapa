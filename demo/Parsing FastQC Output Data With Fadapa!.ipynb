{
 "metadata": {
  "name": "",
  "signature": "sha256:46ae5d987ae739076be837587bc0e981bdb726bff68fdfe8f626e8b063ebdf00"
 },
 "nbformat": 3,
 "nbformat_minor": 0,
 "worksheets": [
  {
   "cells": [
    {
     "cell_type": "code",
     "collapsed": false,
     "input": [
      "# import fadapa\n",
      "from fadapa import Fadapa\n",
      "\n",
      "#load file by specifying the path to file\n",
      "f = Fadapa('demo/fastqc_data.txt')"
     ],
     "language": "python",
     "metadata": {},
     "outputs": [],
     "prompt_number": 1
    },
    {
     "cell_type": "code",
     "collapsed": false,
     "input": [
      "# to print the file name\n",
      "print(f.file_name)"
     ],
     "language": "python",
     "metadata": {},
     "outputs": [
      {
       "output_type": "stream",
       "stream": "stdout",
       "text": [
        "demo/fastqc_data.txt\n"
       ]
      }
     ],
     "prompt_number": 2
    },
    {
     "cell_type": "code",
     "collapsed": false,
     "input": [
      "# to print all the contents of file\n",
      "print(f.content())"
     ],
     "language": "python",
     "metadata": {},
     "outputs": [
      {
       "output_type": "stream",
       "stream": "stdout",
       "text": [
        "##FastQC\t0.10.1\n",
        ">>Basic Statistics\tpass\n",
        "#Measure\tValue\t\n",
        "Filename\tsample1.fastq\t\n",
        "File type\tConventional base calls\t\n",
        "Encoding\tSanger / Illumina 1.9\t\n",
        "Total Sequences\t1571332\t\n",
        "Filtered Sequences\t0\t\n",
        "Sequence length\t29\t\n",
        "%GC\t53\n",
        ">>END_MODULE\n",
        ">>Per base sequence quality\tpass\n",
        "#Base\tMean\tMedian\tLower Quartile\tUpper Quartile\t10th Percentile\t90th Percentile\n",
        "1\t39.851088121415465\t40.0\t40.0\t40.0\t40.0\t40.0\n",
        "2\t39.823216863145404\t40.0\t40.0\t40.0\t40.0\t40.0\n",
        "3\t39.806648754050705\t40.0\t40.0\t40.0\t40.0\t40.0\n",
        "4\t39.7966120463403\t40.0\t40.0\t40.0\t40.0\t40.0\n",
        "5\t39.48240982809489\t40.0\t40.0\t40.0\t40.0\t40.0\n",
        "............................................................",
        "............................................................"
       ]
      }
     ],
     "prompt_number": 3
    },
    {
     "cell_type": "code",
     "collapsed": false,
     "input": [
      "# print a summary of all modules\n",
      "for data in f.summary():\n",
      "    print(data)"
     ],
     "language": "python",
     "metadata": {},
     "outputs": [
      {
       "output_type": "stream",
       "stream": "stdout",
       "text": [
        "['Module Name', 'Status']\n",
        "['Basic Statistics', 'pass']\n",
        "['Per base sequence quality', 'pass']\n",
        "['Per sequence quality scores', 'pass']\n",
        "['Per base sequence content', 'pass']\n",
        "['Per base GC content', 'pass']\n",
        "['Per sequence GC content', 'pass']\n",
        "['Per base N content', 'pass']\n",
        "['Sequence Length Distribution', 'pass']\n",
        "['Sequence Duplication Levels', 'pass']\n",
        "['Overrepresented sequences', 'warn']\n",
        "['Kmer Content', 'fail']\n"
       ]
      }
     ],
     "prompt_number": 16
    },
    {
     "cell_type": "code",
     "collapsed": false,
     "input": [
      "# print raw data for a given module\n",
      "for data in f.raw_data('Basic Statistics'):\n",
      "    print(data)"
     ],
     "language": "python",
     "metadata": {},
     "outputs": [
      {
       "output_type": "stream",
       "stream": "stdout",
       "text": [
        ">>Basic Statistics\tpass\n",
        "#Measure\tValue\t\n",
        "Filename\tsample1.fastq\t\n",
        "File type\tConventional base calls\t\n",
        "Encoding\tSanger / Illumina 1.9\t\n",
        "Total Sequences\t1571332\t\n",
        "Filtered Sequences\t0\t\n",
        "Sequence length\t29\t\n",
        "%GC\t53\n",
        ">>END_MODULE\n"
       ]
      }
     ],
     "prompt_number": 15
    },
    {
     "cell_type": "code",
     "collapsed": false,
     "input": [
      "# print parsed data for a given module\n",
      "for data in f.clean_data('Basic Statistics'):\n",
      "    print(data)"
     ],
     "language": "python",
     "metadata": {},
     "outputs": [
      {
       "output_type": "stream",
       "stream": "stdout",
       "text": [
        "['Measure', 'Value']\n",
        "['Filename', 'sample1.fastq']\n",
        "['File type', 'Conventional base calls']\n",
        "['Encoding', 'Sanger / Illumina 1.9']\n",
        "['Total Sequences', '1571332']\n",
        "['Filtered Sequences', '0']\n",
        "['Sequence length', '29']\n",
        "['%GC', '53']\n"
       ]
      }
     ],
     "prompt_number": 14
    },
    {
     "cell_type": "code",
     "collapsed": false,
     "input": [
      "for data in f.raw_data('Kmer Content'):\n",
      "    print(data)"
     ],
     "language": "python",
     "metadata": {},
     "outputs": [
      {
       "output_type": "stream",
       "stream": "stdout",
       "text": [
        ">>Kmer Content\tfail\n",
        "#Sequence\tCount\tObs/Exp Overall\tObs/Exp Max\tMax Obs/Exp Position\n",
        "AAAAA\t247430\t10.240459\t11.52296\t3\n",
        "TTTTT\t91310\t3.2113638\t5.350794\t25\n",
        ">>END_MODULE\n"
       ]
      }
     ],
     "prompt_number": 13
    },
    {
     "cell_type": "code",
     "collapsed": false,
     "input": [
      "for data in f.clean_data('Kmer Content'):\n",
      "    print(data)"
     ],
     "language": "python",
     "metadata": {},
     "outputs": [
      {
       "output_type": "stream",
       "stream": "stdout",
       "text": [
        "['Sequence', 'Count', 'Obs/Exp Overall', 'Obs/Exp Max', 'Max Obs/Exp Position']\n",
        "['AAAAA', '247430', '10.240459', '11.52296', '3']\n",
        "['TTTTT', '91310', '3.2113638', '5.350794', '25']\n"
       ]
      }
     ],
     "prompt_number": 12
    }
   ],
   "metadata": {}
  }
 ]
}